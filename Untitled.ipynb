{
 "cells": [
  {
   "cell_type": "code",
   "execution_count": 79,
   "metadata": {},
   "outputs": [],
   "source": [
    "import numpy as np\n",
    "import scipy.signal\n",
    "%matplotlib inline\n",
    "import matplotlib.pyplot as plt\n",
    "from numpy import *\n",
    "import math"
   ]
  },
  {
   "cell_type": "code",
   "execution_count": 80,
   "metadata": {},
   "outputs": [
    {
     "name": "stdout",
     "output_type": "stream",
     "text": [
      "Detect peaks without any filters.\n",
      "Peaks area are: [ 2  6  9 17 22]\n"
     ]
    },
    {
     "data": {
      "image/png": "[encoded data removed]",
      "text/plain": [
       "<Figure size 432x288 with 1 Axes>"
      ]
     },
     "metadata": {
      "needs_background": "light"
     },
     "output_type": "display_data"
    }
   ],
   "source": [
    "\n",
    "vector = [\n",
    "    0, 6, 25, 20, 15, 8, 15, 6, 0, 6, 0, -5, -15, -3, 4, 10, 8, 13, 8, 10, 3,\n",
    "    1, 20, 7, 3, 0 ]\n",
    "\n",
    "plt.plot(vector)\n",
    "print('Detect peaks without any filters.')\n",
    "indexes = scipy.signal.find_peaks_cwt(vector, np.arange(1, 4),\n",
    "    max_distances=np.arange(1, 4)*2)\n",
    "indexes = np.array(indexes) - 1\n",
    "print('Peaks area are: %s' % (indexes))"
   ]
  },
  {
   "cell_type": "code",
   "execution_count": 81,
   "metadata": {},
   "outputs": [],
   "source": [
    "sign = [0]*len(vector)#标记列表\n",
    "indMax = [] #波峰index列表\n",
    "indMin = [] #波谷列表"
   ]
  },
  {
   "cell_type": "code",
   "execution_count": 82,
   "metadata": {},
   "outputs": [
    {
     "name": "stdout",
     "output_type": "stream",
     "text": [
      "[0, 6, 25, 20, 15, 8, 15, 6, 0, 6, 0, -5, -15, -3, 4, 10, 8, 13, 8, 10, 3, 1, 20, 7, 3, 0]\n",
      "[1, 0, -1, -1, 0, 1, -1, -1, 0, -1, -1, 0, 1, 0, 1, 0, 0, 0, 0, -1, -1, 0, -1, 0, -1, 0]\n"
     ]
    }
   ],
   "source": [
    "\n",
    "for i in vector:\n",
    "    if i==0:\n",
    "        continue\n",
    "    diff = vector[i] - vector[i-1]\n",
    "    if diff>0:\n",
    "        sign[i-1]=1\n",
    "    elif diff<0:\n",
    "        sign[i-1]=-1\n",
    "    else:\n",
    "        sign[i-1]=0\n",
    "print(vector)\n",
    "print(sign)"
   ]
  },
  {
   "cell_type": "code",
   "execution_count": 83,
   "metadata": {},
   "outputs": [
    {
     "name": "stdout",
     "output_type": "stream",
     "text": [
      "[1, 1, 1, 1]\n",
      "[0, -1, -1, 0, -1, -1, 0, -1, -1, 0, 0, 0, 0, 0, 0, -1, -1, 0, -1, 0, -1, 0]\n"
     ]
    }
   ],
   "source": [
    "for i in sign:\n",
    "    diff = sign[i] - sign[i-1]\n",
    "    if diff<0:\n",
    "        indMax.append(i)\n",
    "    elif diff>0:\n",
    "        indMin.append(i)\n",
    "print(indMax)\n",
    "print(indMin)"
   ]
  },
  {
   "cell_type": "code",
   "execution_count": 84,
   "metadata": {},
   "outputs": [],
   "source": [
    "if len(indMax) > len(indMin):\n",
    "    initFlagMaxIndex = len(indMax)\n",
    "else:\n",
    "    initFlagMaxIndex = len(indMin)\n",
    "    \n",
    "flag_max_index = [0]* initFlagMaxIndex\n",
    "idelete = [0] * initFlagMaxIndex\n",
    "temp_max_index = [0] * initFlagMaxIndex\n",
    "\n",
    "bigger = 0\n",
    "tempvalue = 0\n",
    "distance = 1 #?搜索两个峰或谷的最小间距\n"
   ]
  },
  {
   "cell_type": "code",
   "execution_count": 85,
   "metadata": {},
   "outputs": [
    {
     "name": "stdout",
     "output_type": "stream",
     "text": [
      "6\n",
      "6\n",
      "6\n",
      "6\n",
      "6\n",
      "6\n",
      "6\n",
      "6\n",
      "6\n",
      "6\n",
      "6\n",
      "6\n",
      "6\n",
      "6\n",
      "6\n",
      "6\n"
     ]
    }
   ],
   "source": [
    "#波峰\n",
    "for i in range(len(indMax)):\n",
    "    tempvalue = -1;\n",
    "    for j in range(len(indMax)):\n",
    "        if not flag_max_index[j]: #!\n",
    "            if vector[indMax[j]] > tempvalue:\n",
    "                bigger = j\n",
    "                tempvalye = vector[indMax[j]]\n",
    "                print(vector[indMax[j]])\n"
   ]
  },
  {
   "cell_type": "code",
   "execution_count": 86,
   "metadata": {},
   "outputs": [
    {
     "name": "stdout",
     "output_type": "stream",
     "text": [
      "[True, True, True, True, 0, 0, 0, 0, 0, 0, 0, 0, 0, 0, 0, 0, 0, 0, 0, 0, 0, 0]\n"
     ]
    }
   ],
   "source": [
    "flag_max_index[bigger] = 1\n",
    "if not idelete[bigger]:\n",
    "    for i in range(len(indMax)):\n",
    "        idelete[i] = (indMax[i] - distance <= indMax[bigger] and indMax[bigger] <= indMax[i] + distance)\n",
    "    print(idelete)\n",
    "    idelete[bigger] = 0\n"
   ]
  },
  {
   "cell_type": "code",
   "execution_count": 87,
   "metadata": {},
   "outputs": [],
   "source": [
    "j=0;\n",
    "for i in range(len(indMax)):\n",
    "    if not idelete[i]:\n",
    "        temp_max_index[j] = indMax[i]\n",
    "    j = j+1"
   ]
  },
  {
   "cell_type": "code",
   "execution_count": 88,
   "metadata": {},
   "outputs": [],
   "source": [
    "for i in range(len(indMax)):\n",
    "    if i < j:\n",
    "        indMax[i] = temp_max_index[i]\n",
    "    else:\n",
    "        indMax[i] = 0\n",
    "max_index = j"
   ]
  },
  {
   "cell_type": "code",
   "execution_count": 89,
   "metadata": {},
   "outputs": [
    {
     "name": "stdout",
     "output_type": "stream",
     "text": [
      "[0, 0, 0, 1]\n"
     ]
    }
   ],
   "source": [
    "print(indMax)"
   ]
  },
  {
   "cell_type": "code",
   "execution_count": 90,
   "metadata": {},
   "outputs": [],
   "source": [
    "#曲线的峰值点，满足一阶导数为0，并且满足二阶导数为负\n",
    "#曲线的波谷点，满足一阶导数为0，并且二阶导数为正\n",
    "#①计算一阶导数Diff，不关系一阶导数大小，进行符号化Trend = sign(Diffv)\n",
    "#②将符号化后一阶导数为0的点设为与其所在坡面梯度方向相同\n",
    "#③计算二阶导数，根据正负找到波峰或波谷"
   ]
  },
  {
   "cell_type": "code",
   "execution_count": 91,
   "metadata": {},
   "outputs": [],
   "source": [
    "peakPositions = [] #[0] * len(vector)\n",
    "valleys = []\n",
    "diff_v = [0] * (len(vector) - 1)\n",
    "trend = [0] * (len(vector) - 1)"
   ]
  },
  {
   "cell_type": "markdown",
   "metadata": {},
   "source": [
    "           /  1  if x>0\n",
    "sign(x) =  -  =  if x=0\n",
    "           \\  -1 if x<0"
   ]
  },
  {
   "cell_type": "code",
   "execution_count": 92,
   "metadata": {},
   "outputs": [],
   "source": [
    "for i in range(len(diff_v)):\n",
    "    if vector[i + 1] - vector[i] > 0:\n",
    "        diff_v[i] = 1;\n",
    "    elif vector[i + 1] - vector[i] < 0:\n",
    "        diff_v[i] = -1;\n",
    "    else:\n",
    "        diff_v[i] = 0;"
   ]
  },
  {
   "cell_type": "code",
   "execution_count": 93,
   "metadata": {},
   "outputs": [
    {
     "name": "stdout",
     "output_type": "stream",
     "text": [
      "[1, 1, -1, -1, -1, 1, -1, -1, 1, -1, -1, -1, 1, 1, 1, -1, 1, -1, 1, -1, -1, 1, -1, -1, -1]\n"
     ]
    }
   ],
   "source": [
    "print(diff_v)"
   ]
  },
  {
   "cell_type": "markdown",
   "metadata": {},
   "source": [
    "if Trend(i) = 0 and Trend(i+1) >=0 then trend(i) = 1\n",
    "if Trend(i) = 0 and Trend(i+1) < 0 then trend(i) = -1"
   ]
  },
  {
   "cell_type": "code",
   "execution_count": 94,
   "metadata": {},
   "outputs": [],
   "source": [
    "trend = diff_v\n",
    "#对trend作遍历\n",
    "for i in range(len(diff_v)):\n",
    "    if diff_v[i] == 0 and len(diff_v) - 1:\n",
    "        diff_v[i] = 1;\n",
    "    elif diff_v[i] == 0:\n",
    "        if diff_v[i+1]>=0:\n",
    "            diff_v[i] = 1\n",
    "        else:\n",
    "            diff_v[i] = -1"
   ]
  },
  {
   "cell_type": "code",
   "execution_count": 95,
   "metadata": {},
   "outputs": [],
   "source": [
    "for i in range((len(diff_v) - 1)):\n",
    "    if diff_v[i + 1] - diff_v[i] == -2:\n",
    "        peakPositions.append(i+1)\n",
    "    elif diff_v[i + 1] - diff_v[i] == 2:\n",
    "        valleys.append(i+1)"
   ]
  },
  {
   "cell_type": "code",
   "execution_count": 96,
   "metadata": {},
   "outputs": [
    {
     "name": "stdout",
     "output_type": "stream",
     "text": [
      "[25, 15, 6, 10, 13, 10, 20]\n",
      "[8, 0, -15, 8, 8, 1]\n"
     ]
    }
   ],
   "source": [
    "#得到峰值\n",
    "peakValue = []\n",
    "valleyValue = []\n",
    "for i in range(len(peakPositions)):\n",
    "    peakValue.append(vector[peakPositions[i]])\n",
    "for i in range(len(valleys)):\n",
    "    valleyValue.append(vector[valleys[i]])\n",
    "print(peakValue)\n",
    "print(valleyValue)"
   ]
  },
  {
   "cell_type": "code",
   "execution_count": 97,
   "metadata": {},
   "outputs": [
    {
     "name": "stdout",
     "output_type": "stream",
     "text": [
      "[2, 6, 9, 15, 17, 19, 22]\n",
      "[ 2  6  9 17 22]\n"
     ]
    },
    {
     "data": {
      "text/plain": [
       "<matplotlib.collections.PathCollection at 0x7fe54c275160>"
      ]
     },
     "execution_count": 97,
     "metadata": {},
     "output_type": "execute_result"
    },
    {
     "data": {
      "image/png": "[encoded data removed]",
      "text/plain": [
       "<Figure size 432x288 with 1 Axes>"
      ]
     },
     "metadata": {
      "needs_background": "light"
     },
     "output_type": "display_data"
    }
   ],
   "source": [
    "print(peakPositions)\n",
    "print(indexes)\n",
    "plt.plot(vector)\n",
    "plt.scatter(peakPositions, peakValue, s=15, c='r')\n",
    "plt.scatter(valleys, valleyValue, s=15, c='g')"
   ]
  },
  {
   "cell_type": "markdown",
   "metadata": {},
   "source": [
    "VPD \n",
    "vpd(n)表示第n个波谷点的值与第n个波峰点值的差\n",
    "VPD(k) = P(k) - V(k)\n",
    "VPD 满足\n",
    "    VPD(k) < 0.7 * { VPD(k-1) + VPD(k) + VPD(k+1) } / 3"
   ]
  },
  {
   "cell_type": "markdown",
   "metadata": {},
   "source": [
    "jp 浪高算法，100次浪中选33次最高的求平均值"
   ]
  },
  {
   "cell_type": "code",
   "execution_count": null,
   "metadata": {},
   "outputs": [],
   "source": []
  },
  {
   "cell_type": "code",
   "execution_count": null,
   "metadata": {},
   "outputs": [],
   "source": []
  },
  {
   "cell_type": "code",
   "execution_count": null,
   "metadata": {},
   "outputs": [],
   "source": []
  },
  {
   "cell_type": "code",
   "execution_count": 99,
   "metadata": {},
   "outputs": [
    {
     "data": {
      "text/plain": [
       "<matplotlib.collections.PathCollection at 0x7fe54c1cf7c0>"
      ]
     },
     "execution_count": 99,
     "metadata": {},
     "output_type": "execute_result"
    },
    {
     "data": {
      "image/png": "[encoded data removed]",
      "text/plain": [
       "<Figure size 432x288 with 1 Axes>"
      ]
     },
     "metadata": {
      "needs_background": "light"
     },
     "output_type": "display_data"
    }
   ],
   "source": [
    "#第一次过滤\n",
    "vpd = []\n",
    "realWave = []\n",
    "tempPeak = []\n",
    "tempValley = []\n",
    "realPeakPosition = []\n",
    "reakPeakValue = []\n",
    "realValleyPosition = []\n",
    "for i in range(len(peakValue) - 1):\n",
    "    vpd.append(peakValue[i] - valleyValue[i])\n",
    "\n",
    "for i in range(len(vpd) - 1):\n",
    "    if i == 1:\n",
    "        continue\n",
    "    if vpd[i] >= 0.7 * (vpd[i-1] + vpd[i] + vpd[i+1]) / 3:\n",
    "        realWave.append(vpd[i])\n",
    "        tempPeak.append(i)\n",
    "        tempValley.append(i)\n",
    "        \n",
    "#筛选真实坐标\n",
    "for i in range(len(peakPositions)):\n",
    "    for j in range(len(tempPeak)):\n",
    "        if i == tempPeak[j]:\n",
    "            realPeakPosition.append(peakPositions[i])\n",
    "            reakPeakValue.append(peakValue[i])\n",
    "\n",
    "plt.plot(vector)\n",
    "plt.scatter(realPeakPosition, reakPeakValue, s=15, c='r')\n",
    "#plt.scatter(valleys, valleyValue, s=15, c='g')"
   ]
  },
  {
   "cell_type": "code",
   "execution_count": 98,
   "metadata": {},
   "outputs": [
    {
     "name": "stdout",
     "output_type": "stream",
     "text": [
      "[0.3703254110507235, 0.00042413460266116365, -0.06512873061501694, -0.15617982678208492, 0.1521298863357164, -1.0921377634127662, -1.032792987814559, -0.3283986357954629, 1.6501793421863273, 0.7969489502661204, 1.2314512641585011, 1.3947404569404, 1.0851222290002116, 2.41103042700845, 2.854419001999435, 2.7218988601678378, 3.6727833823908225, 3.9624614357340957, 3.9293640533104055, 4.081249996616948, 4.412717450395854, 3.4448492872763543, 3.4214172494542536, 3.4868509953373454, 3.923765552018547, 5.390282002821368, 4.336392229225315, 4.38244046478812, 4.391728136818155, 3.369483299380259, 3.849221047531829, 4.174878379473745, 5.538241477251692, 5.250247085770624, 5.294301251929602, 5.594320262698665, 6.59725316982447, 6.749652472106628, 7.200430881506245, 7.11004577734389, 6.980971379390455, 8.036665590922883, 8.882041948631509, 8.32609872071409, 9.111643001340973, 9.013664227334683, 9.869977430245081, 11.518758859460485, 12.14294355017108, 10.983002158857072, 11.135834820336639, 11.827567129824494, 10.999052584325268, 11.137811156326944, 11.09388628195324, 11.690295617514819, 12.333117394645235, 13.737206104958032, 13.660699897768533, 14.671034596839316]\n"
     ]
    },
    {
     "data": {
      "image/png": "[encoded data removed]",
      "text/plain": [
       "<Figure size 432x288 with 1 Axes>"
      ]
     },
     "metadata": {
      "needs_background": "light"
     },
     "output_type": "display_data"
    }
   ],
   "source": [
    "#海浪模拟\n",
    "myN = 60\n",
    "timeInterval = 1 #时间间隔\n",
    "initX = 0 #初始尾椎\n",
    "Amplitude = np.abs(np.random.randn(1,myN)) #幅值\n",
    "waveAmplitude = []\n",
    "Period = np.abs(np.random.randn(1,myN)) #周期\n",
    "wavePeriod = []\n",
    "Length = np.abs(np.random.randn(1,myN)) #波长\n",
    "waveLength = []\n",
    "Phase = np.abs(np.random.rand(1,myN)) * 2 * math.pi #初相位\n",
    "initialPhase = []\n",
    "myWave = 0\n",
    "waveLine = []\n",
    "for i in range(1):\n",
    "    for j in range(myN):\n",
    "        waveAmplitude.append(Amplitude[i][j])\n",
    "        wavePeriod.append(Period[i][j])\n",
    "        waveLength.append(Length[i][j])\n",
    "        initialPhase.append(Phase[i][j])\n",
    "for i in range(myN):\n",
    "    myWave = myWave + waveAmplitude[i] * math.cos(2 * math.pi * initX / waveLength[i] - 2 * math.pi * timeInterval / wavePeriod[i] + initialPhase[i])\n",
    "    waveLine.append(myWave)\n",
    "\n",
    "\n",
    "    \n",
    "plt.plot(waveLine)\n",
    "print(waveLine)"
   ]
  },
  {
   "cell_type": "code",
   "execution_count": 100,
   "metadata": {},
   "outputs": [
    {
     "ename": "SyntaxError",
     "evalue": "invalid syntax (<ipython-input-100-67c83500553b>, line 3)",
     "output_type": "error",
     "traceback": [
      "\u001b[0;36m  File \u001b[0;32m\"<ipython-input-100-67c83500553b>\"\u001b[0;36m, line \u001b[0;32m3\u001b[0m\n\u001b[0;31m    [y,~]=impulse(num,den);\u001b[0m\n\u001b[0m        ^\u001b[0m\n\u001b[0;31mSyntaxError\u001b[0m\u001b[0;31m:\u001b[0m invalid syntax\n"
     ]
    }
   ],
   "source": [
    "num=[0,0,25];\n",
    "den=[1,4,25];\n",
    "[y,~]=impulse(num,den);\n",
    "T=fft(y,127);\n",
    "\n",
    "M=127;\n",
    "dt=1/(127*2);\n",
    "t=0:dt:1000;\n",
    "F=1/(2*dt);\n",
    "df=F/M;\n",
    "L=20;\n",
    "A=0;\n",
    "\n",
    "for j=1:L\n",
    "for i=1:M\n",
    "    A=A+1/M*real(T(i*df))*cos(1*pi*i/m);\n",
    "    B(j)=A;\n",
    "    A=0\n",
    "end\n",
    "end\n",
    "stem(B,'filled');\n",
    "\n",
    "x=normrnd(0,1,1,167);\n",
    "A0=randn(1);\n",
    "N1=0;N2=0;\n",
    "fori=1:M\n",
    "for j=1:L\n",
    "if(i-j<=0)\n",
    "    N1=N1+A(1)*(x(i+j));\n",
    "else\n",
    "    N2=N2+A(1)*(x((i+j))+x((i-j)));\n",
    "end\n",
    "end\n",
    "end\n",
    "N=N1+N2;\n",
    "t1=t+20*0.039;\n",
    "z=round(t1);\n",
    "H=A0*x(z)+N;\n",
    "fori=1:25400;\n",
    "if(H(i+1)==H(i))\n",
    "    H(i+1)=H(i);\n",
    "    H(i)=0;\n",
    "end\n",
    "end\n",
    "H=H(H~=0);\n",
    "plot(H,'linewidth',1.5);\n",
    "set(gca,'xlim',[0 100]);\n",
    "grid on"
   ]
  }
 ],
 "metadata": {
  "kernelspec": {
   "display_name": "Python 3",
   "language": "python",
   "name": "python3"
  },
  "language_info": {
   "codemirror_mode": {
    "name": "ipython",
    "version": 3
   },
   "file_extension": ".py",
   "mimetype": "text/x-python",
   "name": "python",
   "nbconvert_exporter": "python",
   "pygments_lexer": "ipython3",
   "version": "3.8.3"
  }
 },
 "nbformat": 4,
 "nbformat_minor": 4
}
